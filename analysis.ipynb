{
 "cells": [
  {
   "cell_type": "markdown",
   "id": "d4ecea61-ca06-4e02-b671-cea900ff90f1",
   "metadata": {},
   "source": [
    "# Amperon Data Engineering Take Home Assignment"
   ]
  },
  {
   "cell_type": "code",
   "execution_count": 1,
   "id": "bd5d81fb-3540-4c7d-8301-cc19cb334fb9",
   "metadata": {},
   "outputs": [],
   "source": [
    "import os\n",
    "from ipywidgets import interact, widgets\n",
    "from tomorrow.db import get_connection, execute_data_query\n",
    "import pandas as pd\n",
    "import matplotlib.pyplot as plt\n",
    "import warnings\n",
    "# Suppress all warnings\n",
    "warnings.filterwarnings ('ignore')"
   ]
  },
  {
   "cell_type": "code",
   "execution_count": 2,
   "id": "a0260374-1bc5-4d91-b595-bf69ea972724",
   "metadata": {},
   "outputs": [],
   "source": [
    "# Bring in DB credentials from env\n",
    "PGHOST = os.environ.get('PGHOST')\n",
    "PGPORT = os.environ.get('PGPORT')\n",
    "PGUSER = os.environ.get('PGUSER')\n",
    "PGPASSWORD = os.environ.get('PGPASSWORD')\n",
    "PGDATABASE = os.environ.get('PGDATABASE')\n",
    "\n",
    "env_vars = [PGHOST, PGPORT, PGUSER, PGPASSWORD, PGDATABASE ]\n",
    "\n",
    "# Check for missing env values. \n",
    "if any([ v is None for v in env_vars]):\n",
    "    raise(\"Missing DB credentials.\")"
   ]
  },
  {
   "cell_type": "code",
   "execution_count": 3,
   "id": "964a06f9-7dcd-4b46-b619-00a5b88eb703",
   "metadata": {},
   "outputs": [
    {
     "name": "stdout",
     "output_type": "stream",
     "text": [
      "Connecting to DB\n"
     ]
    }
   ],
   "source": [
    "# Create Connection object\n",
    "db_conn = get_connection()"
   ]
  },
  {
   "cell_type": "code",
   "execution_count": 4,
   "id": "f32830f5-6d8c-4bd6-b5b1-ae44e33939d4",
   "metadata": {},
   "outputs": [],
   "source": [
    "# Define queries\n",
    "hitorical_query = \"\"\" select * from historical_weather \"\"\"\n",
    "forecast_query  = \"\"\" select * from forecast_weather \"\"\""
   ]
  },
  {
   "cell_type": "code",
   "execution_count": 5,
   "id": "4593ff72-8f38-4eef-84fd-3a4cf8a8879d",
   "metadata": {},
   "outputs": [],
   "source": [
    "# Pull Data\n",
    "historical_data = execute_data_query(db_conn, hitorical_query)\n",
    "forecast_data = execute_data_query(db_conn, forecast_query)\n"
   ]
  },
  {
   "cell_type": "code",
   "execution_count": 6,
   "id": "abaeedfc-91f6-4f57-b83b-be02f8753e29",
   "metadata": {},
   "outputs": [
    {
     "data": {
      "text/html": [
       "<div>\n",
       "<style scoped>\n",
       "    .dataframe tbody tr th:only-of-type {\n",
       "        vertical-align: middle;\n",
       "    }\n",
       "\n",
       "    .dataframe tbody tr th {\n",
       "        vertical-align: top;\n",
       "    }\n",
       "\n",
       "    .dataframe thead th {\n",
       "        text-align: right;\n",
       "    }\n",
       "</style>\n",
       "<table border=\"1\" class=\"dataframe\">\n",
       "  <thead>\n",
       "    <tr style=\"text-align: right;\">\n",
       "      <th></th>\n",
       "      <th>id</th>\n",
       "      <th>datetime</th>\n",
       "      <th>field</th>\n",
       "      <th>value</th>\n",
       "    </tr>\n",
       "  </thead>\n",
       "  <tbody>\n",
       "    <tr>\n",
       "      <th>0</th>\n",
       "      <td>1</td>\n",
       "      <td>2024-11-17 05:00:00</td>\n",
       "      <td>cloudBase</td>\n",
       "      <td>NaN</td>\n",
       "    </tr>\n",
       "    <tr>\n",
       "      <th>1</th>\n",
       "      <td>1</td>\n",
       "      <td>2024-11-17 05:00:00</td>\n",
       "      <td>cloudCeiling</td>\n",
       "      <td>NaN</td>\n",
       "    </tr>\n",
       "    <tr>\n",
       "      <th>2</th>\n",
       "      <td>1</td>\n",
       "      <td>2024-11-17 05:00:00</td>\n",
       "      <td>cloudCover</td>\n",
       "      <td>7.000</td>\n",
       "    </tr>\n",
       "    <tr>\n",
       "      <th>3</th>\n",
       "      <td>1</td>\n",
       "      <td>2024-11-17 05:00:00</td>\n",
       "      <td>dewPoint</td>\n",
       "      <td>67.330</td>\n",
       "    </tr>\n",
       "    <tr>\n",
       "      <th>4</th>\n",
       "      <td>1</td>\n",
       "      <td>2024-11-17 05:00:00</td>\n",
       "      <td>evapotranspiration</td>\n",
       "      <td>0.001</td>\n",
       "    </tr>\n",
       "  </tbody>\n",
       "</table>\n",
       "</div>"
      ],
      "text/plain": [
       "   id            datetime               field   value\n",
       "0   1 2024-11-17 05:00:00           cloudBase     NaN\n",
       "1   1 2024-11-17 05:00:00        cloudCeiling     NaN\n",
       "2   1 2024-11-17 05:00:00          cloudCover   7.000\n",
       "3   1 2024-11-17 05:00:00            dewPoint  67.330\n",
       "4   1 2024-11-17 05:00:00  evapotranspiration   0.001"
      ]
     },
     "execution_count": 6,
     "metadata": {},
     "output_type": "execute_result"
    }
   ],
   "source": [
    "# Preview Data\n",
    "historical_data.head()"
   ]
  },
  {
   "cell_type": "code",
   "execution_count": 7,
   "id": "49a507e2-8cb1-426a-9328-81424575a34a",
   "metadata": {},
   "outputs": [
    {
     "data": {
      "text/html": [
       "<div>\n",
       "<style scoped>\n",
       "    .dataframe tbody tr th:only-of-type {\n",
       "        vertical-align: middle;\n",
       "    }\n",
       "\n",
       "    .dataframe tbody tr th {\n",
       "        vertical-align: top;\n",
       "    }\n",
       "\n",
       "    .dataframe thead th {\n",
       "        text-align: right;\n",
       "    }\n",
       "</style>\n",
       "<table border=\"1\" class=\"dataframe\">\n",
       "  <thead>\n",
       "    <tr style=\"text-align: right;\">\n",
       "      <th></th>\n",
       "      <th>id</th>\n",
       "      <th>datetime</th>\n",
       "      <th>field</th>\n",
       "      <th>value</th>\n",
       "    </tr>\n",
       "  </thead>\n",
       "  <tbody>\n",
       "    <tr>\n",
       "      <th>0</th>\n",
       "      <td>1</td>\n",
       "      <td>2024-11-18 04:00:00</td>\n",
       "      <td>cloudBase</td>\n",
       "      <td>0.210</td>\n",
       "    </tr>\n",
       "    <tr>\n",
       "      <th>1</th>\n",
       "      <td>1</td>\n",
       "      <td>2024-11-18 04:00:00</td>\n",
       "      <td>cloudCeiling</td>\n",
       "      <td>0.210</td>\n",
       "    </tr>\n",
       "    <tr>\n",
       "      <th>2</th>\n",
       "      <td>1</td>\n",
       "      <td>2024-11-18 04:00:00</td>\n",
       "      <td>cloudCover</td>\n",
       "      <td>92.000</td>\n",
       "    </tr>\n",
       "    <tr>\n",
       "      <th>3</th>\n",
       "      <td>1</td>\n",
       "      <td>2024-11-18 04:00:00</td>\n",
       "      <td>dewPoint</td>\n",
       "      <td>74.860</td>\n",
       "    </tr>\n",
       "    <tr>\n",
       "      <th>4</th>\n",
       "      <td>1</td>\n",
       "      <td>2024-11-18 04:00:00</td>\n",
       "      <td>evapotranspiration</td>\n",
       "      <td>0.005</td>\n",
       "    </tr>\n",
       "  </tbody>\n",
       "</table>\n",
       "</div>"
      ],
      "text/plain": [
       "   id            datetime               field   value\n",
       "0   1 2024-11-18 04:00:00           cloudBase   0.210\n",
       "1   1 2024-11-18 04:00:00        cloudCeiling   0.210\n",
       "2   1 2024-11-18 04:00:00          cloudCover  92.000\n",
       "3   1 2024-11-18 04:00:00            dewPoint  74.860\n",
       "4   1 2024-11-18 04:00:00  evapotranspiration   0.005"
      ]
     },
     "execution_count": 7,
     "metadata": {},
     "output_type": "execute_result"
    }
   ],
   "source": [
    "forecast_data.head()"
   ]
  },
  {
   "cell_type": "code",
   "execution_count": 8,
   "id": "cc911aa9-7dba-42bf-b4c2-56fb6935f365",
   "metadata": {},
   "outputs": [],
   "source": [
    "# Join historical and forecast data so they can be plotted jointly.\n",
    "data = pd.concat([historical_data, forecast_data], ignore_index=True)"
   ]
  },
  {
   "cell_type": "code",
   "execution_count": 9,
   "id": "1761c4ba-29f3-436e-832b-8eb17263a849",
   "metadata": {},
   "outputs": [],
   "source": [
    "# Define a line chart that is interactive. \n",
    "def plot_field(selected_field, selected_id):\n",
    "    # Filter data for selected field and id\n",
    "    mask = (data['field'] == selected_field) & (data['id'] == selected_id)\n",
    "    filtered_data = data[mask]\n",
    "    \n",
    "    # Create the plot\n",
    "    plt.figure(figsize=(12, 6))\n",
    "    plt.plot(filtered_data['datetime'], filtered_data['value'], marker='o')\n",
    "    \n",
    "    # Customize the plot\n",
    "    plt.title(f'Time Series for Field: {selected_field}, ID: {selected_id}')\n",
    "    plt.xlabel('DateTime')\n",
    "    plt.ylabel('Value')\n",
    "    plt.xticks(rotation=45)\n",
    "    plt.grid(True)\n",
    "    plt.tight_layout()\n",
    "    \n",
    "    plt.show()\n",
    "\n"
   ]
  },
  {
   "cell_type": "code",
   "execution_count": 10,
   "id": "7dbee91a-6c7c-4be5-9f87-13ad9a6ce745",
   "metadata": {},
   "outputs": [
    {
     "data": {
      "application/vnd.jupyter.widget-view+json": {
       "model_id": "b5b2ea95ebcc4450b572890196a002d4",
       "version_major": 2,
       "version_minor": 0
      },
      "text/plain": [
       "interactive(children=(Dropdown(description='Field:', options=('cloudBase', 'cloudCeiling', 'cloudCover', 'dewP…"
      ]
     },
     "metadata": {},
     "output_type": "display_data"
    },
    {
     "data": {
      "text/plain": [
       "<function __main__.plot_field(selected_field, selected_id)>"
      ]
     },
     "execution_count": 10,
     "metadata": {},
     "output_type": "execute_result"
    }
   ],
   "source": [
    "# Drop downs selectors for ID and Field of interest. \n",
    "field_dropdown = widgets.Dropdown(\n",
    "    options=data['field'].unique(),\n",
    "    description='Field:',\n",
    "    style={'description_width': 'initial'}\n",
    ")\n",
    "id_dropdown = widgets.Dropdown(\n",
    "    options=sorted(data['id'].unique()),\n",
    "    description='ID:',\n",
    "    style={'description_width': 'initial'}\n",
    ")\n",
    "interact(plot_field, selected_field=field_dropdown , selected_id=id_dropdown)"
   ]
  }
 ],
 "metadata": {
  "kernelspec": {
   "display_name": "Python 3 (ipykernel)",
   "language": "python",
   "name": "python3"
  },
  "language_info": {
   "codemirror_mode": {
    "name": "ipython",
    "version": 3
   },
   "file_extension": ".py",
   "mimetype": "text/x-python",
   "name": "python",
   "nbconvert_exporter": "python",
   "pygments_lexer": "ipython3",
   "version": "3.11.7"
  }
 },
 "nbformat": 4,
 "nbformat_minor": 5
}
