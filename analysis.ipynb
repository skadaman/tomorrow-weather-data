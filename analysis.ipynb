{
 "cells": [
  {
   "cell_type": "markdown",
   "id": "d4ecea61-ca06-4e02-b671-cea900ff90f1",
   "metadata": {},
   "source": [
    "# Amperon Data Engineering Take Home Assignment"
   ]
  },
  {
   "cell_type": "code",
   "execution_count": null,
   "id": "a0260374-1bc5-4d91-b595-bf69ea972724",
   "metadata": {},
   "outputs": [],
   "source": []
  }
 ],
 "metadata": {
  "kernelspec": {
   "display_name": "Python 3 (ipykernel)",
   "language": "python",
   "name": "python3"
  },
  "language_info": {
   "codemirror_mode": {
    "name": "ipython",
    "version": 3
   },
   "file_extension": ".py",
   "mimetype": "text/x-python",
   "name": "python",
   "nbconvert_exporter": "python",
   "pygments_lexer": "ipython3",
   "version": "3.11.7"
  }
 },
 "nbformat": 4,
 "nbformat_minor": 5
}
